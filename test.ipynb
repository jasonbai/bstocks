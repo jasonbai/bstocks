{
 "cells": [
  {
   "cell_type": "code",
   "execution_count": null,
   "metadata": {},
   "outputs": [],
   "source": [
    "import streamlit as st\n",
    "import numpy as np\n",
    "import akshare as ak\n",
    "import pandas as pd\n",
    "import altair as alt\n",
    "import matplotlib.pyplot as plt\n",
    "import os\n"
   ]
  },
  {
   "cell_type": "code",
   "execution_count": null,
   "metadata": {},
   "outputs": [],
   "source": [
    "# ----------------------------- 公募基金列表---------------------------##\n",
    "df_fund = ak.fund_open_fund_rank_em(symbol=\"全部\")\n",
    "# 将列转换为数值，并将无法转换的值转换为NaN\n",
    "df_fund['今年来'] = pd.to_numeric(df_fund['今年来'], errors='coerce')\n",
    "df_fund['今年来'] = df_fund['今年来'].fillna(0)\n",
    "# 剔除C类\n",
    "df_fund = df_fund[~df_fund['基金简称'].str.contains('C', case=False)]\n",
    "# 缩减输出列\n",
    "df_fund = df_fund[['基金代码', '基金简称', '日期', '近1月', '近1年', '近3年', '今年来', '成立来', '手续费']]\n",
    "# 今年来排序\n",
    "df_fund_year = df_fund.sort_values('今年来', ascending=False)\n",
    "\n",
    "# -----------------------------  今年来涨跌top10 and tail10 公募基金--------------------#\n",
    "df_fund_year_top = df_fund_year.head(10)\n",
    "df_fund_year_tail = df_fund_year.tail(10)\n",
    "\n",
    "# -----------------------------   五、QDII专题----------------------------------------------#\n",
    "# -----------------------------  今年来涨跌Top10 - QDII 基金---------------------------#\n",
    "\n",
    "df_fund_qdii = ak.fund_open_fund_rank_em(symbol=\"QDII\")\n",
    "# 将列转换为数值，并将无法转换的值转换为NaN\n",
    "df_fund_qdii['今年来'] = pd.to_numeric(df_fund_qdii['今年来'], errors='coerce')\n",
    "df_fund_qdii['今年来'] = df_fund_qdii['今年来'].fillna(0)\n",
    "# 剔除C类\n",
    "df_fund_qdii = df_fund_qdii[~df_fund_qdii['基金简称'].str.contains('C', case=False)]\n",
    "# 缩减输出列\n",
    "df_fund_qdii = df_fund_qdii[['基金代码', '基金简称', '日期', '近1月', '近1年', '近3年', '今年来', '成立来', '手续费']]\n",
    "# 排序输出\n",
    "df_fund_qdii_year = df_fund_qdii.sort_values('今年来', ascending=False)\n",
    "\n",
    "df_fund_qdii_year_top = df_fund_qdii_year.head(10)\n",
    "df_fund_qdii_year_tail = df_fund_qdii_year.tail(10)"
   ]
  }
 ],
 "metadata": {
  "kernelspec": {
   "display_name": "stocklab",
   "language": "python",
   "name": "python3"
  },
  "language_info": {
   "codemirror_mode": {
    "name": "ipython",
    "version": 3
   },
   "file_extension": ".py",
   "mimetype": "text/x-python",
   "name": "python",
   "nbconvert_exporter": "python",
   "pygments_lexer": "ipython3",
   "version": "3.10.4"
  }
 },
 "nbformat": 4,
 "nbformat_minor": 2
}
